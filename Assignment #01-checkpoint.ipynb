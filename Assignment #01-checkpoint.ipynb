{
 "cells": [
  {
   "cell_type": "code",
   "execution_count": 1,
   "id": "3cc75b7b",
   "metadata": {},
   "outputs": [
    {
     "name": "stdout",
     "output_type": "stream",
     "text": [
      "Twinkle, Twinkle, little star,\n",
      "\n",
      "\tHow I wonder what you are\n",
      "\n",
      "\t\tUp above the world so high\n",
      "\n",
      "\t\tLike a diamond in the sky\n",
      "\n",
      "Twinkle, Twinkle, little star\n",
      "\n",
      "\tHow I wonder what you are\n"
     ]
    }
   ],
   "source": [
    "print(\"Twinkle, Twinkle, little star,\\n\")\n",
    "print(\"\\tHow I wonder what you are\\n\")\n",
    "print(\"\\t\\tUp above the world so high\\n\")\n",
    "print(\"\\t\\tLike a diamond in the sky\\n\")\n",
    "print(\"Twinkle, Twinkle, little star\\n\")\n",
    "print(\"\\tHow I wonder what you are\")"
   ]
  },
  {
   "cell_type": "code",
   "execution_count": 3,
   "id": "df93eb65",
   "metadata": {},
   "outputs": [
    {
     "name": "stdout",
     "output_type": "stream",
     "text": [
      "Python version mentioned below\n",
      "3.9.7 (default, Sep 16 2021, 16:59:28) [MSC v.1916 64 bit (AMD64)]\n"
     ]
    }
   ],
   "source": [
    "import sys\n",
    "print(\"Python version mentioned below\")\n",
    "print(sys.version)"
   ]
  },
  {
   "cell_type": "code",
   "execution_count": 5,
   "id": "fe2b9109",
   "metadata": {},
   "outputs": [
    {
     "name": "stdout",
     "output_type": "stream",
     "text": [
      "Current date and time\n",
      "2021-12-28 22:22:26.497100\n"
     ]
    }
   ],
   "source": [
    "import datetime\n",
    "print(\"Current date and time\")\n",
    "print(datetime.datetime.now())"
   ]
  },
  {
   "cell_type": "code",
   "execution_count": 51,
   "id": "5d4e3b88",
   "metadata": {},
   "outputs": [
    {
     "name": "stdout",
     "output_type": "stream",
     "text": [
      "Enter the radius3\n",
      "28.259999999999998\n"
     ]
    }
   ],
   "source": [
    "PI=3.14\n",
    "radius=float(input(\"Enter the radius\"))\n",
    "Area=PI*radius*radius\n",
    "print(Area)\n"
   ]
  },
  {
   "cell_type": "code",
   "execution_count": 55,
   "id": "4a2c87a3",
   "metadata": {},
   "outputs": [
    {
     "name": "stdout",
     "output_type": "stream",
     "text": [
      "Enter the first name \n",
      "abdyul\n",
      "Enter the last name \n",
      "qadeer\n",
      "qadeer abdyul\n"
     ]
    }
   ],
   "source": [
    "firstname=input(\"Enter the first name \\n\")\n",
    "lastname=input(\"Enter the last name \\n\")\n",
    "print(lastname+\" \"+firstname)"
   ]
  },
  {
   "cell_type": "code",
   "execution_count": 69,
   "id": "e8ef029d",
   "metadata": {
    "scrolled": true
   },
   "outputs": [
    {
     "name": "stdout",
     "output_type": "stream",
     "text": [
      "Enter the number 1\n",
      "432\n",
      "Enter the number 2\n",
      "234\n",
      "666\n"
     ]
    }
   ],
   "source": [
    "a=int(input(\"Enter the number 1\\n\"))\n",
    "b=int(input(\"Enter the number 2\\n\"))\n",
    "c=a+b\n",
    "print(c)"
   ]
  },
  {
   "cell_type": "code",
   "execution_count": null,
   "id": "7fa62fe1",
   "metadata": {},
   "outputs": [],
   "source": []
  }
 ],
 "metadata": {
  "kernelspec": {
   "display_name": "Python 3 (ipykernel)",
   "language": "python",
   "name": "python3"
  },
  "language_info": {
   "codemirror_mode": {
    "name": "ipython",
    "version": 3
   },
   "file_extension": ".py",
   "mimetype": "text/x-python",
   "name": "python",
   "nbconvert_exporter": "python",
   "pygments_lexer": "ipython3",
   "version": "3.9.7"
  }
 },
 "nbformat": 4,
 "nbformat_minor": 5
}